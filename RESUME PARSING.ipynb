{
 "cells": [
  {
   "cell_type": "code",
   "execution_count": 16,
   "metadata": {},
   "outputs": [
    {
     "name": "stdout",
     "output_type": "stream",
     "text": [
      "this is gmail <_sre.SRE_Match object; span=(232, 252), match='riyaz.n111@gmail.com'>\n",
      "this is phone number <_sre.SRE_Match object; span=(207, 217), match='8978651546'>\n",
      "name <_sre.SRE_Match object; span=(49, 76), match='NAME:   NABILLA RIYAZ AHMED'>\n",
      "address <_sre.SRE_Match object; span=(93, 203), match='12-2-830/22/1,Alapathi nagar, Mehdipatnam, Hydera>\n"
     ]
    }
   ],
   "source": [
    "import tika\n",
    "from tika import parser\n",
    "import re\n",
    "\n",
    "\n",
    "class ResumeParsing:\n",
    "    def parseAnyFile():\n",
    "        tika.initVM()\n",
    "        parsed = parser.from_file(\"riyazresume.doc.docx\")\n",
    "        #print(parsed[\"content\"])\n",
    "        regular_expression = re.compile(r\"[A-Z0-9._%+-]+@[A-Z0-9.-]+\\.[A-Z]{2,4}\", re.IGNORECASE)\n",
    "        result = re.search(regular_expression, parsed[\"content\"])\n",
    "        print(\"this is gmail\",result)\n",
    "        regular_expression1 = re.compile(r\"[0-9]{10,13}\", re.IGNORECASE)\n",
    "        result1 = re.search(regular_expression1, parsed[\"content\"])\n",
    "        print(\"this is phone number\",result1)\n",
    "        regular_expression2 =re.compile(r\"(\\S+)\\s+(\\S+)[A-Z\\s]+\", re.IGNORECASE)\n",
    "        result2=re.search(regular_expression2, parsed[\"content\"])\n",
    "        print(\"name\",result2)\n",
    "        regular_expression3=re.compile(r\"[0-9-/,]+[A-Za-z\\s,]+\",re.IGNORECASE)\n",
    "        result3=re.search(regular_expression3,parsed[\"content\"])\n",
    "        print(\"address\",result3)\n",
    "    if __name__ == \"__main__\":\n",
    "        parseAnyFile()\n"
   ]
  },
  {
   "cell_type": "code",
   "execution_count": null,
   "metadata": {},
   "outputs": [],
   "source": []
  }
 ],
 "metadata": {
  "kernelspec": {
   "display_name": "Python 3",
   "language": "python",
   "name": "python3"
  },
  "language_info": {
   "codemirror_mode": {
    "name": "ipython",
    "version": 3
   },
   "file_extension": ".py",
   "mimetype": "text/x-python",
   "name": "python",
   "nbconvert_exporter": "python",
   "pygments_lexer": "ipython3",
   "version": "3.6.1"
  }
 },
 "nbformat": 4,
 "nbformat_minor": 2
}
